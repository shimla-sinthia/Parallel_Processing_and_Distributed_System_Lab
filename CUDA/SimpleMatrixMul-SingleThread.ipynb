%%writefile kernel.cu
#include <iostream>
#include <cuda_runtime.h>
using namespace std;

__global__ void matrixMulKernel(float *A, float *B, float *C, int M, int N, int P, int offset) {
    int k = threadIdx.x + offset;

    float *a = A + k * M * N;
    float *b = B + k * N * P;
    float *c = C + k * M * P;

    for (int i = 0; i < M; i++) {
        for (int j = 0; j < P; j++) {
            float sum = 0.0f;
            for (int l = 0; l < N; l++) {
                sum += a[i * N + l] * b[l * P + j];
            }
            c[i * P + j] = sum;
        }
    }
}

int main(int argc, char *argv[]) {
    if (argc < 3) {
        cout << "Usage: " << argv[0] << " <num_matrices> <max_threads>" << endl;
        return 1;
    }

    int K = stoi(argv[1]);  // number of matrices
    int x = stoi(argv[2]);  // number of threads

    int M = 400, N = 400, P = 400;
    int sizeA = K * M * N * sizeof(float);
    int sizeB = K * N * P * sizeof(float);
    int sizeC = K * M * P * sizeof(float);

    float *h_A = new float[K * M * N];
    float *h_B = new float[K * N * P];
    float *h_C = new float[K * M * P];

    // random initialization
    for (int i = 0; i < K * M * N; i++) h_A[i] = rand();
    for (int i = 0; i < K * N * P; i++) h_B[i] = rand();

    //copy data to device
    float *d_A, *d_B, *d_C;
    cudaMalloc(&d_A, sizeA);
    cudaMalloc(&d_B, sizeB);
    cudaMalloc(&d_C, sizeC);

    cudaMemcpy(d_A, h_A, sizeA, cudaMemcpyHostToDevice);
    cudaMemcpy(d_B, h_B, sizeB, cudaMemcpyHostToDevice);

    // launch kernel
    // We have to process batch by batch
    // as we may not have enough threads to process all matrices at once
    for (int i = 0; i < K; i += x) {
        int currentBatchSize = min(x, K - i);
        printf("Processing matrixs from %d to %d\n", i, i + currentBatchSize - 1);
        matrixMulKernel<<<1, currentBatchSize>>>(d_A, d_B, d_C, M, N, P, i);
        cudaDeviceSynchronize();
    }

    //sync & copy
    cudaMemcpy(h_C, d_C, sizeC, cudaMemcpyDeviceToHost);

    // Output results
    /*
    for (int k = 0; k < K; k++) {
        cout << "Matrix C[" << k << "]: " << endl;
        for (int i = 0; i < M; i++) {
            for (int j = 0; j < P; j++) {
                cout << h_C[k * M * P + i * P + j] << " ";
            }
            cout << endl;
        }
        cout << endl;
    }
    */
    cout << "All multiplications completed successfully!" << endl;

    delete[] h_A;
    delete[] h_B;
    delete[] h_C;
    cudaFree(d_A);
    cudaFree(d_B);
    cudaFree(d_C);

}
